{
 "cells": [
  {
   "cell_type": "markdown",
   "metadata": {},
   "source": [
    "Curso: Métodos Numéricos II  \n",
    "Professor: Creto Augusto Vidal  \n",
    "Semestre: 2020.1  \n",
    "Equipe: DANIEL MAGALHÃES NUNES, ANTONIO AUGUSTO DA SILVA HOLANDA  \n",
    "Tarefa 06"
   ]
  },
  {
   "cell_type": "markdown",
   "metadata": {},
   "source": [
    "Desenvolver Quadraturas de Gauss-Hermite, Gauss-Laguerre e Gauss-Chebyshev para 4 pontos, preenchendo os valores da linha n=4 da tabela apresentada no final da Aula#12. Implementar as quadraturas da referida tabela com n=2, 3 e 4, e testar em exemplos da internet."
   ]
  },
  {
   "cell_type": "markdown",
   "metadata": {},
   "source": [
    "Raizes dos polinomios de grais 4:\n",
    "\n",
    "\n",
    "| x       | H(x) - Hermite                                 |L(x) - Laguerre|     T(x) - Chebyshev|\n",
    "|-:---:-  | -------:---:------                             | ---:---:----- | ----:---:----- |\n",
    "| $$x_1$$ |   $$-\\sqrt{\\frac{3}{2} + \\sqrt{\\frac{3}{2}}}$$ | 0.322         |$$-\\frac{1}{2}\\sqrt{2 - \\sqrt{2}}$$  |\n",
    "| $$x_2$$ |    $$-\\sqrt{\\frac{3}{2} - \\sqrt{\\frac{3}{2}}}$$|1.745          |$$-\\frac{1}{2}\\sqrt{2 + \\sqrt{2}}$$|\n",
    "| $$x_3$$ |     $$\\sqrt{\\frac{3}{2} - \\sqrt{\\frac{3}{2}}}$$|    4.536      |$$\\frac{\\sqrt{2 - \\sqrt{2}}}{2}$$|\n",
    "| $$x_4$$ |   $$\\sqrt{\\frac{3}{2} + \\sqrt{\\frac{3}{2}}}$$  |       9.395   |$$\\frac{\\sqrt{2 + \\sqrt{2}}}{2}$$|"
   ]
  },
  {
   "cell_type": "markdown",
   "metadata": {},
   "source": [
    "Pesos os polinomios de grais 4:\n",
    "\n",
    "\n",
    "| x       |H(x) - Hermite|L(x) - Laguerre|T(x) - Chebyshev|\n",
    "|-:---:-  |--:---:----   | ---:---:----- | ----:---:----- |\n",
    "| $$w_1$$ |    0.081     |        0.603  |      0.785     |\n",
    "| $$w_2$$ |     0.804    |          0.357|  0.785         |\n",
    "| $$w_3$$ |      0.804   |   0.038       |     0.785      |\n",
    "| $$w_4$$ |    0.081     |     0.000539  |     0.785      |"
   ]
  },
  {
   "cell_type": "markdown",
   "metadata": {},
   "source": [
    "A função utilizada como exemplo será a função densidade de probabilidade da distribuição Normal padrão, definida como:\n",
    "\n",
    "$$\n",
    "f(x) = \\frac{1}{\\sqrt{2\\pi \\sigma^2}}exp\\left [ -\\frac{1}{2} \\left ( \\frac{x-\\mu }{\\sigma } \\right )^2 \\right ], \\; \\;  x\\in (-\\infty , \\infty)\n",
    "$$\n",
    "\n",
    "Com $ \\mu = 0 $  e  $ \\sigma = 1$  "
   ]
  },
  {
   "cell_type": "markdown",
   "metadata": {},
   "source": [
    "Sabemos que:\n",
    "\n",
    "$$\n",
    "\\int_{-\\infty}^{\\infty} \\frac{1}{\\sqrt{2\\pi \\sigma^2}}exp\\left [ -\\frac{1}{2} \\left ( \\frac{x-\\mu }{\\sigma } \\right )^2 \\right ] dx = 1\n",
    "$$\n",
    "\n",
    "Portanto,\n",
    "\n",
    "$$\n",
    "\\int_{0}^{\\infty} \\frac{1}{\\sqrt{2\\pi \\sigma^2}}exp\\left [ -\\frac{1}{2} \\left ( \\frac{x-\\mu }{\\sigma } \\right )^2 \\right ] dx = \\frac{1}{2}\n",
    "$$\n",
    "\n",
    "e,\n",
    "\n",
    "$$\n",
    "\\int_{-1}^{1} \\frac{1}{\\sqrt{2\\pi \\sigma^2}}exp\\left [ -\\frac{1}{2} \\left ( \\frac{x-\\mu }{\\sigma } \\right )^2 \\right ] dx = 0.6827\n",
    "$$\n"
   ]
  },
  {
   "cell_type": "code",
   "execution_count": 10,
   "metadata": {},
   "outputs": [],
   "source": [
    "# Importando biblioteca numpy\n",
    "import numpy as np"
   ]
  },
  {
   "cell_type": "code",
   "execution_count": 12,
   "metadata": {},
   "outputs": [],
   "source": [
    "# Função da distribuição Normal como exemplo\n",
    "def f(x):\n",
    "    return np.power(np.e, -np.power(x, 2)/2) / np.sqrt(2*np.pi)"
   ]
  },
  {
   "cell_type": "code",
   "execution_count": 23,
   "metadata": {},
   "outputs": [
    {
     "name": "stdout",
     "output_type": "stream",
     "text": [
      "Exemplo da Quadraturas de Gauss-Hermite\n",
      "Solução obtida: 0.9903667512831968\n",
      "Erro: 9.633e-03\n"
     ]
    }
   ],
   "source": [
    "def integral_hermite(f, n):\n",
    "    peso = np.polynomial.hermite.hermgauss(n)[1]\n",
    "    no = np.polynomial.hermite.hermgauss(n)[0]\n",
    "    fk = f(no)\n",
    "    sol = np.sum(peso * fk * np.power(np.e, np.power(no, 2)))\n",
    "    return sol\n",
    "\n",
    "n = 4\n",
    "s = integral_hermite(f, n)\n",
    "print('Exemplo da Quadraturas de Gauss-Hermite')\n",
    "print('Solução obtida: {}'.format(s))\n",
    "print(\"Erro: %1.3e\"% (np.abs(s - 1.0)))"
   ]
  },
  {
   "cell_type": "code",
   "execution_count": 24,
   "metadata": {},
   "outputs": [
    {
     "name": "stdout",
     "output_type": "stream",
     "text": [
      "Exemplo da Quadraturas de Gauss-Laguerre\n",
      "Solução obtida: 0.4934433650348029\n",
      "Erro: 6.557e-03\n"
     ]
    }
   ],
   "source": [
    "def integral_laguerre(f, n):\n",
    "    peso = np.polynomial.laguerre.laggauss(n)[1]\n",
    "    no = np.polynomial.laguerre.laggauss(n)[0]\n",
    "    fk = f(no)\n",
    "    sol = np.sum(peso * fk * np.power(np.e,no))\n",
    "    return sol\n",
    "\n",
    "n = 4\n",
    "s = integral_laguerre(f, n)\n",
    "print('Exemplo da Quadraturas de Gauss-Laguerre')\n",
    "print('Solução obtida: {}'.format(s))\n",
    "print(\"Erro: %1.3e\"% (np.abs(s - 0.5)))"
   ]
  },
  {
   "cell_type": "code",
   "execution_count": 25,
   "metadata": {},
   "outputs": [
    {
     "name": "stdout",
     "output_type": "stream",
     "text": [
      "Exemplo da Quadraturas de Gauss-Chebyshev\n",
      "Solução obtida: 0.6945805367502847\n",
      "Erro: 1.188e-02\n"
     ]
    }
   ],
   "source": [
    "def integral_chebyshev(f, n):\n",
    "    peso = np.polynomial.chebyshev.chebgauss(n)[1]\n",
    "    no = np.polynomial.chebyshev.chebgauss(n)[0]\n",
    "    fk = f(no)\n",
    "    ex = np.sqrt(1 - np.power(no, 2))\n",
    "    sol = np.sum(peso * fk * ex)\n",
    "    return sol\n",
    "\n",
    "n = 4\n",
    "s = integral_chebyshev(f, n)\n",
    "print('Exemplo da Quadraturas de Gauss-Chebyshev')\n",
    "print('Solução obtida: {}'.format(s))\n",
    "print(\"Erro: %1.3e\"% (np.abs(s - 0.6827)))"
   ]
  },
  {
   "cell_type": "code",
   "execution_count": null,
   "metadata": {},
   "outputs": [],
   "source": []
  }
 ],
 "metadata": {
  "kernelspec": {
   "display_name": "Python 3",
   "language": "python",
   "name": "python3"
  },
  "language_info": {
   "codemirror_mode": {
    "name": "ipython",
    "version": 3
   },
   "file_extension": ".py",
   "mimetype": "text/x-python",
   "name": "python",
   "nbconvert_exporter": "python",
   "pygments_lexer": "ipython3",
   "version": "3.7.7"
  }
 },
 "nbformat": 4,
 "nbformat_minor": 4
}
