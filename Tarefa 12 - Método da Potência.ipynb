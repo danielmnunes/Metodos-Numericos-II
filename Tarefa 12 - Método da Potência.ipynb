{
 "cells": [
  {
   "cell_type": "markdown",
   "metadata": {},
   "source": [
    "**Curso: Métodos Numéricos II  \n",
    "Professor: Creto Augusto Vidal  \n",
    "Semestre: 2020.1  \n",
    "Equipe: DANIEL MAGALHÃES NUNES, ANTONIO AUGUSTO DA SILVA HOLANDA  \n",
    "Tarefa 12**"
   ]
  },
  {
   "cell_type": "markdown",
   "metadata": {},
   "source": [
    "**Implemente os Algoritmos metodoDaPotenciaInverso2 e metodoDaPotenciaComDeslocamento e utilize-os, junto com o algoritmo metodoDaPotenciaRegular, para achar todos os autovalores e os autovetores correspondentes de cada uma das seguintes matrizes.**\n",
    "$$\n",
    "A_1 = \\begin{bmatrix}\n",
    "5 & 2 & 1 \\\\ \n",
    "2 & 3 & 1\\\\ \n",
    "1 & 1 & 2\n",
    "\\end{bmatrix}\n",
    "\\; \\;\n",
    "A_2 = \\begin{bmatrix}\n",
    "-14 & 1 & -2 \\\\ \n",
    "1 & -1 & 1\\\\ \n",
    "-2 & 1 & -11\n",
    "\\end{bmatrix}\n",
    "\\; \\;\n",
    "A_3 = \\begin{bmatrix}\n",
    "40 & 8 & 4 & 2 & 1\\\\ \n",
    "8 &30  &12  &6  & 2 \\\\ \n",
    "4 & 12 & 20 & 1 & 2\\\\ \n",
    "2 & 6 & 1 & 25 & 4\\\\ \n",
    "1 & 2 & 2 & 4 & 5\n",
    "\\end{bmatrix}\n",
    "$$"
   ]
  },
  {
   "cell_type": "markdown",
   "metadata": {},
   "source": [
    "**Algoritimo do Método da Potência Regular**"
   ]
  },
  {
   "cell_type": "code",
   "execution_count": 6,
   "metadata": {},
   "outputs": [],
   "source": [
    "import numpy as np\n",
    "\n",
    "def metodoDaPotenciaRegular(A, v0, epsilon = 1e-4, max_iter = 10000):\n",
    "    '''\n",
    "    Esta função tenta encontrar o autovalor dominante e o autovetor correspondente da matriz A,\n",
    "    usando o método de potência regular com os parâmetros:\n",
    "     - A: (matriz) Matriz quadrada(nxn) que se deseja encontrar o autovalor dominante e o autovetor correspondente\n",
    "     - v0: (vetor) Vetor arbitrário de tamanha n = dimensão da matriz A(nxn)\n",
    "     - epsilon: (float) Critério de parada do método de potência quando alterações na solução são insignificantes\n",
    "     - max_iter: (int) Critério de parada definitiva, quando o metodo não encontra uma solução aceitável\n",
    "    '''\n",
    "    ep = 0 # step 2\n",
    "    vk = np.copy(v0) # step 3\n",
    "    cont = 0\n",
    "\n",
    "    while True:\n",
    "        ep_velho = ep # step 4\n",
    "        vk_velho = np.copy(vk) # step 5\n",
    "\n",
    "        x1_velho = vk_velho / np.linalg.norm(vk_velho) # step 6\n",
    "        vk = A.dot(x1_velho) # step 7\n",
    "        ep = np.dot(x1_velho.T, vk) # step 8\n",
    "\n",
    "        if np.abs((ep - ep_velho)/ep) < epsilon or cont > max_iter: # step 9\n",
    "            break\n",
    "        cont += 1\n",
    "    return ep[0][0], vk.T # step 10"
   ]
  },
  {
   "cell_type": "markdown",
   "metadata": {},
   "source": [
    "**Algoritimo do Método da Potência Inverso 2**"
   ]
  },
  {
   "cell_type": "code",
   "execution_count": 7,
   "metadata": {},
   "outputs": [],
   "source": [
    "def metodoDaPotenciaInverso2(A, v0, epsilon = 1e-4, max_iter = 10000):\n",
    "    ep = 0 # step 2\n",
    "    vk = np.copy(v0) # step 3\n",
    "    cont = 0\n",
    "\n",
    "    while True:\n",
    "        ep_velho = ep # step 4\n",
    "        vk_velho = np.copy(vk) # step 5\n",
    "\n",
    "        x1_velho = vk_velho / np.linalg.norm(vk_velho) # step 6\n",
    "        vk = np.dot(np.linalg.inv(A), x1_velho) # step 7\n",
    "        ep = np.dot(x1_velho.T, vk) # step 8\n",
    "\n",
    "        if np.abs((ep - ep_velho)/ep) < epsilon or cont > max_iter: # step 9\n",
    "            break\n",
    "        cont += 1\n",
    "    ep_menor = 1/ep[0][0]\n",
    "    return ep_menor, vk.T # step 10"
   ]
  },
  {
   "cell_type": "markdown",
   "metadata": {},
   "source": [
    "**Algoritimo do Método da Potência com Deslocamento**"
   ]
  },
  {
   "cell_type": "code",
   "execution_count": 8,
   "metadata": {},
   "outputs": [],
   "source": [
    "def metodoDaPotenciaComDeslocamento(A, v0, mu):\n",
    "    A_chapeu = A - mu*np.eye(A.shape[0])\n",
    "    epc, xc = metodoDaPotenciaInverso2(A_chapeu, v0)\n",
    "    ep = epc + mu\n",
    "    x = xc\n",
    "    return ep, x"
   ]
  },
  {
   "cell_type": "markdown",
   "metadata": {},
   "source": [
    "**Algoritimo do Método da Potência Completo**"
   ]
  },
  {
   "cell_type": "code",
   "execution_count": 9,
   "metadata": {},
   "outputs": [],
   "source": [
    "def metodoDaPotenciaCompleto(A, v0, epsilon = 1e-4, max_iter = 10000):\n",
    "\n",
    "    if A.shape[0] == 1:\n",
    "        return A, 1\n",
    "    elif A.shape[0] == 2:\n",
    "        ep_maior, v_maior = metodoDaPotenciaRegular(A, v0)\n",
    "        ep_menor, v_menor = metodoDaPotenciaInverso2(A, v0)\n",
    "        return [ep_menor, ep_maior], [v_menor, v_maior]\n",
    "    else:\n",
    "        ep_maior, v_maior = metodoDaPotenciaRegular(A, v0)\n",
    "        ep_menor, v_menor = metodoDaPotenciaInverso2(A, v0) \n",
    "        autovalores = [ep_menor, ep_maior]\n",
    "        autovetores = [v_menor, v_maior]\n",
    "        passo = (ep_maior - ep_menor) / A.shape[0]\n",
    "        mu = passo\n",
    "        \n",
    "        while len(set(autovalores)) < A.shape[0]:\n",
    "            ep, vk = metodoDaPotenciaComDeslocamento(A, v0, mu)\n",
    "            autovalores.append(ep)\n",
    "            autovetores.append(vk)\n",
    "            mu += passo\n",
    "        \n",
    "        return np.array(autovalores), np.array(autovetores).reshape(A.shape)"
   ]
  },
  {
   "cell_type": "markdown",
   "metadata": {},
   "source": [
    "**Encontrando os autovalores e os autovetores da matriz A1**"
   ]
  },
  {
   "cell_type": "code",
   "execution_count": 17,
   "metadata": {},
   "outputs": [
    {
     "name": "stdout",
     "output_type": "stream",
     "text": [
      "autovalores: [1.35431471 6.64573674 2.00000923]\n",
      "autorvetores: [[ 0.10360233 -0.4683789   0.56133998]\n",
      " [ 5.35302652  3.4533028   1.89359217]\n",
      " [ 2.4460212  -2.45202768 -2.43507212]]\n"
     ]
    }
   ],
   "source": [
    "A1 = np.array([[5, 2, 1], # Definindo matriz A1\n",
    "              [2, 3, 1],\n",
    "              [1, 1, 2]])\n",
    "\n",
    "v0 = np.array([1, 0, 0]).reshape(3,1) # Definindo vetor v0\n",
    "ep, vk = metodoDaPotenciaCompleto(A1, v0) # Chamando do método\n",
    "print('autovalores: {}'.format(ep)) # Imprimindo autovalores\n",
    "print('autorvetores: {}'.format(vk)) # Imprimindo autorvetores"
   ]
  },
  {
   "cell_type": "markdown",
   "metadata": {},
   "source": [
    "**Encontrando os autovalores e os autovetores da matriz A2**"
   ]
  },
  {
   "cell_type": "code",
   "execution_count": 19,
   "metadata": {},
   "outputs": [
    {
     "name": "stdout",
     "output_type": "stream",
     "text": [
      "autovalores: [ -0.85092322 -15.12693876  -0.85051072]\n",
      "autorvetores: [[-0.07358802 -1.16856455 -0.10061408]\n",
      " [13.47054636 -1.42787523  6.73305501]\n",
      " [ 0.01669534  0.25452067  0.02060231]]\n"
     ]
    }
   ],
   "source": [
    "A1 = np.array([[-14, 1, -2], # Definindo matriz A2\n",
    "              [1, -1, 1],\n",
    "              [-2, 1, -11]])\n",
    "\n",
    "v0 = np.array([1, 0, 0]).reshape(3,1) # Definindo vetor v0\n",
    "ep, vk = metodoDaPotenciaCompleto(A1, v0) # Chamando do método\n",
    "print('autovalores: {}'.format(ep)) # Imprimindo autovalores\n",
    "print('autorvetores: {}'.format(vk)) # Imprimindo autorvetores"
   ]
  },
  {
   "cell_type": "markdown",
   "metadata": {},
   "source": [
    "**Encontrando os autovalores e os autovetores da matriz A3**"
   ]
  },
  {
   "cell_type": "code",
   "execution_count": 20,
   "metadata": {},
   "outputs": [
    {
     "name": "stdout",
     "output_type": "stream",
     "text": [
      "autovalores: [ 4.01490122 49.38110001 11.64248171 23.64910867 23.64719504]\n",
      "autorvetores: [[ 2.27607236e-03 -8.12218695e-03  3.29983278e-02  4.67256217e-02\n",
      "  -2.42268007e-01]\n",
      " [ 3.47063623e+01  2.84667701e+01  1.69188812e+01  1.10836677e+01\n",
      "   3.81381573e+00]\n",
      " [ 1.60801951e-02 -2.30368491e-01  3.01350098e-01  6.03375712e-02\n",
      "   6.09614818e-02]\n",
      " [ 1.87091979e-02 -4.40290212e-02 -7.27776209e-02  1.57984971e-01\n",
      "   2.22092762e-02]\n",
      " [ 3.09042669e-02 -7.06387420e-02 -1.11182154e-01  2.42701252e-01\n",
      "   3.43217938e-02]]\n"
     ]
    }
   ],
   "source": [
    "A2 = np.array([[40, 8,  4,  2, 1], # Definindo matriz A3\n",
    "              [8, 30, 12,  6, 2],\n",
    "              [4, 12, 20,  1, 2],\n",
    "              [2,  6,  1, 25, 4],\n",
    "              [1,  2,  2,  4, 5]])\n",
    "\n",
    "v0 = np.array([1, 0, 0, 0, 0]).reshape(5, 1) # Definindo vetor v0\n",
    "ep, vk = metodoDaPotenciaCompleto(A2, v0) # Chamando do método\n",
    "print('autovalores: {}'.format(ep)) # Imprimindo autovalores\n",
    "print('autorvetores: {}'.format(vk)) # Imprimindo autorvetores"
   ]
  },
  {
   "cell_type": "code",
   "execution_count": null,
   "metadata": {},
   "outputs": [],
   "source": []
  }
 ],
 "metadata": {
  "kernelspec": {
   "display_name": "Python 3",
   "language": "python",
   "name": "python3"
  },
  "language_info": {
   "codemirror_mode": {
    "name": "ipython",
    "version": 3
   },
   "file_extension": ".py",
   "mimetype": "text/x-python",
   "name": "python",
   "nbconvert_exporter": "python",
   "pygments_lexer": "ipython3",
   "version": "3.7.6"
  }
 },
 "nbformat": 4,
 "nbformat_minor": 4
}
