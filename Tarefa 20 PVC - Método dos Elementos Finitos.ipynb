{
 "cells": [
  {
   "cell_type": "markdown",
   "metadata": {},
   "source": [
    "**Curso: Métodos Numéricos II  \n",
    "Professor: Creto Augusto Vidal  \n",
    "Semestre: 2020.1  \n",
    "Equipe: DANIEL MAGALHÃES NUNES, ANTONIO AUGUSTO DA SILVA HOLANDA  \n",
    "Tarefa 20**"
   ]
  },
  {
   "cell_type": "markdown",
   "metadata": {},
   "source": [
    "**Tarefa 20 PVC - Método dos Elementos Finitos**"
   ]
  },
  {
   "cell_type": "code",
   "execution_count": 65,
   "metadata": {},
   "outputs": [],
   "source": [
    "import numpy as np\n",
    "import pandas as pd"
   ]
  },
  {
   "cell_type": "code",
   "execution_count": 66,
   "metadata": {},
   "outputs": [],
   "source": [
    "def mefn(a, b, ua, ub, n):\n",
    "    x = np.linspace(a,b,n+1) # Domínio\n",
    "    K = np.zeros([(n+1),(n+1)]) \n",
    "    he = (b-a)/n # Subdomínio\n",
    "    for i in range(n): \n",
    "        K[i,i] += (1/he)+(he/3)\n",
    "        K[i,i+1] += (-1/he)+(he/6)\n",
    "        K[i+1,i] += (-1/he)+(he/6)\n",
    "        K[i+1,i+1] += (1/he)+(he/3)\n",
    "    # Rearranjo do Sistema\n",
    "    f = - ua*K[:,0] - ub*K[:,n]\n",
    "    K[:,0] *= 0\n",
    "    K[:,n] *= 0\n",
    "    K[0,0] = 1.\n",
    "    K[n,n] = -1.\n",
    "    # Solução do Sistema\n",
    "    u = np.linalg.solve(K,f) # Vetor de solução\n",
    "    x = x[1:-1]\n",
    "    u = u[1:-1]\n",
    "    return x, u"
   ]
  },
  {
   "cell_type": "markdown",
   "metadata": {},
   "source": [
    "**Método das Diferenças Finitas aplicado ao PVC1 com N=8**"
   ]
  },
  {
   "cell_type": "code",
   "execution_count": 67,
   "metadata": {},
   "outputs": [],
   "source": [
    "N = 8\n",
    "x, u = mefn(0, 1, 0, 1, N)\n",
    "\n",
    "def y(x):\n",
    "    return (1/(np.e**(-1) - np.e))*(np.e**(-x) - np.e**(x))\n",
    "\n",
    "sol = y(x)\n",
    "erro = np.abs(sol - u) / sol;\n",
    "dados = {}\n",
    "dados['Solução Aproximada'] = u\n",
    "dados['Solução Exata'] = sol\n",
    "dados['Erro Relativo'] = erro\n",
    "df = pd.DataFrame(dados)"
   ]
  },
  {
   "cell_type": "code",
   "execution_count": 68,
   "metadata": {},
   "outputs": [
    {
     "data": {
      "text/html": [
       "<div>\n",
       "<style scoped>\n",
       "    .dataframe tbody tr th:only-of-type {\n",
       "        vertical-align: middle;\n",
       "    }\n",
       "\n",
       "    .dataframe tbody tr th {\n",
       "        vertical-align: top;\n",
       "    }\n",
       "\n",
       "    .dataframe thead th {\n",
       "        text-align: right;\n",
       "    }\n",
       "</style>\n",
       "<table border=\"1\" class=\"dataframe\">\n",
       "  <thead>\n",
       "    <tr style=\"text-align: right;\">\n",
       "      <th></th>\n",
       "      <th>Solução Aproximada</th>\n",
       "      <th>Solução Exata</th>\n",
       "      <th>Erro Relativo</th>\n",
       "    </tr>\n",
       "  </thead>\n",
       "  <tbody>\n",
       "    <tr>\n",
       "      <th>0</th>\n",
       "      <td>0.106621</td>\n",
       "      <td>0.106642</td>\n",
       "      <td>0.000201</td>\n",
       "    </tr>\n",
       "    <tr>\n",
       "      <th>1</th>\n",
       "      <td>0.214911</td>\n",
       "      <td>0.214952</td>\n",
       "      <td>0.000191</td>\n",
       "    </tr>\n",
       "    <tr>\n",
       "      <th>2</th>\n",
       "      <td>0.326569</td>\n",
       "      <td>0.326626</td>\n",
       "      <td>0.000174</td>\n",
       "    </tr>\n",
       "    <tr>\n",
       "      <th>3</th>\n",
       "      <td>0.443343</td>\n",
       "      <td>0.443409</td>\n",
       "      <td>0.000151</td>\n",
       "    </tr>\n",
       "    <tr>\n",
       "      <th>4</th>\n",
       "      <td>0.567062</td>\n",
       "      <td>0.567130</td>\n",
       "      <td>0.000121</td>\n",
       "    </tr>\n",
       "    <tr>\n",
       "      <th>5</th>\n",
       "      <td>0.699664</td>\n",
       "      <td>0.699724</td>\n",
       "      <td>0.000086</td>\n",
       "    </tr>\n",
       "    <tr>\n",
       "      <th>6</th>\n",
       "      <td>0.843227</td>\n",
       "      <td>0.843266</td>\n",
       "      <td>0.000046</td>\n",
       "    </tr>\n",
       "  </tbody>\n",
       "</table>\n",
       "</div>"
      ],
      "text/plain": [
       "   Solução Aproximada  Solução Exata  Erro Relativo\n",
       "0            0.106621       0.106642       0.000201\n",
       "1            0.214911       0.214952       0.000191\n",
       "2            0.326569       0.326626       0.000174\n",
       "3            0.443343       0.443409       0.000151\n",
       "4            0.567062       0.567130       0.000121\n",
       "5            0.699664       0.699724       0.000086\n",
       "6            0.843227       0.843266       0.000046"
      ]
     },
     "execution_count": 68,
     "metadata": {},
     "output_type": "execute_result"
    }
   ],
   "source": [
    "df"
   ]
  }
 ],
 "metadata": {
  "kernelspec": {
   "display_name": "Python 3",
   "language": "python",
   "name": "python3"
  },
  "language_info": {
   "codemirror_mode": {
    "name": "ipython",
    "version": 3
   },
   "file_extension": ".py",
   "mimetype": "text/x-python",
   "name": "python",
   "nbconvert_exporter": "python",
   "pygments_lexer": "ipython3",
   "version": "3.8.3"
  }
 },
 "nbformat": 4,
 "nbformat_minor": 4
}
