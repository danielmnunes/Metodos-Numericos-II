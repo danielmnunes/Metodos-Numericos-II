{
 "cells": [
  {
   "cell_type": "markdown",
   "metadata": {},
   "source": [
    "Curso: Métodos Numéricos II  \n",
    "Professor: Creto Augusto Vidal  \n",
    "Semestre: 2020.1  \n",
    "Equipe: DANIEL MAGALHÃES NUNES, ANTONIO AUGUSTO DA SILVA HOLANDA  \n",
    "Tarefa 05"
   ]
  },
  {
   "cell_type": "markdown",
   "metadata": {},
   "source": [
    "## Desenvolva a Quadratura de Gauss-Legendre com 4 pontos seguindo o roteiro apresentado nesta aula. Implemente as Quadraturas   de Gauss-Legendre de 2 a 4 pontos e teste os resultados com tolerância de 10-6. O seu código (como já discutido em sala de aula) implementa a estratégia de partição do problema. Veja, em cada caso, quantas iterações foram necessárias até atingir a tolerância especificada."
   ]
  },
  {
   "cell_type": "markdown",
   "metadata": {},
   "source": [
    "## 1 - Desenvolva quadratura de Gauss-Legendre com 4 pontos"
   ]
  },
  {
   "cell_type": "markdown",
   "metadata": {},
   "source": [
    "### Para este caso particular, a fórmula (1) pode ser escrita como:\n",
    "$$\n",
    "I = \\int_{x_{i}}^{x_{f}} f(x)dx \\approx \\frac{x_{f} - x_{i}}{2}\\left [ \n",
    "\\sum_{k=1}^{4} f(x(\\alpha_{k}))w_{k} \\right ]\n",
    "$$"
   ]
  },
  {
   "cell_type": "markdown",
   "metadata": {},
   "source": [
    "### 1.1) Quem são $\\alpha_{1}$, $\\alpha_{2}$, $\\alpha_{3}$ e $\\alpha_{4}$?  \n",
    "### Os valores de  $\\alpha_{1}$, $\\alpha_{2}$, $\\alpha_{3}$ e $\\alpha_{4}$ são as raízes do polinômio de Legendre de grau 4, $P_{4}(\\alpha)$ definido como:\n",
    "$$\n",
    "P_{4}(\\alpha) = \\frac{1}{8}\\left ( 35\\alpha^{4} - 30\\alpha^{2} + 3 \\right )\n",
    "$$"
   ]
  },
  {
   "cell_type": "markdown",
   "metadata": {},
   "source": [
    "$\\alpha_{1} = -\\sqrt{\\frac{3}{7} - \\frac{2\\sqrt{\\frac{6}{5}}}{7}} \\; \\; \\;\n",
    "  \\alpha_{2} = \\sqrt{\\frac{3}{7} - \\frac{2\\sqrt{\\frac{6}{5}}}{7}} \\; \\; \\;\n",
    "  \\alpha_{3} = -\\sqrt{\\frac{3}{7} + \\frac{2\\sqrt{\\frac{6}{5}}}{7}} \\; \\; \\;\n",
    "  \\alpha_{4} = \\sqrt{\\frac{3}{7} + \\frac{2\\sqrt{\\frac{6}{5}}}{7}}$"
   ]
  },
  {
   "cell_type": "markdown",
   "metadata": {},
   "source": [
    "### 1.2) Calculo de $x(\\alpha_{1})$, $x(\\alpha_{2})$, $x(\\alpha_{3})$ e $x(\\alpha_{4})$?  \n",
    "$$x(\\alpha_{k}) = \\frac{x_{f} + x_{i}}{2} + \\frac{x_{f} - x_{i}}{2}\\alpha_{k}$$"
   ]
  },
  {
   "cell_type": "markdown",
   "metadata": {},
   "source": [
    "$  x(\\alpha_{1}) = \\frac{x_{f} + x_{i}}{2} + \\frac{x_{f} - x_{i}}{2} -\\sqrt{\\frac{3}{7} - \\frac{2\\sqrt{\\frac{6}{5}}}{7}} \\; \n",
    "  x(\\alpha_{2}) = \\frac{x_{f} + x_{i}}{2} + \\frac{x_{f} - x_{i}}{2} \\sqrt{\\frac{3}{7} - \\frac{2\\sqrt{\\frac{6}{5}}}{7}}  \n",
    "$ "
   ]
  },
  {
   "cell_type": "markdown",
   "metadata": {},
   "source": [
    " $x(\\alpha_{3}) = \\frac{x_{f} + x_{i}}{2} + \\frac{x_{f} - x_{i}}{2} -\\sqrt{\\frac{3}{7} + \\frac{2\\sqrt{\\frac{6}{5}}}{7}} \\; \n",
    "  x(\\alpha_{4}) = \\frac{x_{f} + x_{i}}{2} + \\frac{x_{f} - x_{i}}{2} \\sqrt{\\frac{3}{7} + \\frac{2\\sqrt{\\frac{6}{5}}}{7}}$"
   ]
  },
  {
   "cell_type": "markdown",
   "metadata": {},
   "source": [
    "### 1.3) Cálculo dos pesos $w_1, w_2, w_3, w_4$"
   ]
  },
  {
   "cell_type": "markdown",
   "metadata": {},
   "source": [
    "Sabemos que áreas de $L_{1}(\\alpha) = L_{2}(\\alpha)$ e que $L_{3}(\\alpha) = L_{4}(\\alpha)$, portanto precisamos apenas calcular 1 e 3."
   ]
  },
  {
   "cell_type": "markdown",
   "metadata": {},
   "source": [
    "$$\n",
    "L_{1}(\\alpha ) = \\frac{(\\alpha - \\alpha_2)(\\alpha - \\alpha_3)(\\alpha - \\alpha_4)}{(\\alpha_1 - \\alpha_2)(\\alpha_1 - \\alpha_3)(\\alpha_1 - \\alpha_4)} \\; \\; \n",
    "L_{3}(\\alpha ) = \\frac{(\\alpha - \\alpha_1)(\\alpha - \\alpha_2)(\\alpha - \\alpha_4)}{(\\alpha_3 - \\alpha_1)(\\alpha_3 - \\alpha_2)(\\alpha_3 - \\alpha_4)}\n",
    "$$"
   ]
  },
  {
   "cell_type": "markdown",
   "metadata": {},
   "source": [
    "$w_1 = \\int_{-1}^{1} L_{1}(\\alpha) d\\alpha = \\frac{1}{36}\\left ( 18 - \\sqrt{30} \\right ) $   \n",
    "$w_2 = \\int_{-1}^{1} L_{2}(\\alpha) d\\alpha = \\frac{1}{36}\\left ( 18 + \\sqrt{30} \\right ) $  \n",
    "$w_2 = \\int_{-1}^{1} L_{2}(\\alpha) d\\alpha = \\frac{1}{36}\\left ( 18 + \\sqrt{30} \\right ) $  \n",
    "$w_2 = \\int_{-1}^{1} L_{2}(\\alpha) d\\alpha = \\frac{1}{36}\\left ( 18 - \\sqrt{30} \\right ) $  "
   ]
  },
  {
   "cell_type": "markdown",
   "metadata": {},
   "source": [
    "Terminamos! Todos os ingredientes para a Quadratura de Gauss-Legendre com 4 pontos\n",
    "já foram obtidos."
   ]
  },
  {
   "cell_type": "markdown",
   "metadata": {},
   "source": [
    "## 2) Implemente as Quadraturas de Gauss-Legendre de 2 a 4 pontos e teste os resultados com tolerância de 10-6"
   ]
  },
  {
   "cell_type": "code",
   "execution_count": 1,
   "metadata": {},
   "outputs": [
    {
     "name": "stdout",
     "output_type": "stream",
     "text": [
      "[12, 4, 2]\n"
     ]
    }
   ],
   "source": [
    "import numpy as np\n",
    "\n",
    "def resolver(f, a, b, grau):\n",
    "    x = f(((a + b)/2) + ((a - b)/2)*np.polynomial.legendre.leggauss(grau)[0])\n",
    "    w = np.polynomial.legendre.leggauss(grau)[1]\n",
    "    return ((b-a)/2)*np.sum(w*x)\n",
    "    \n",
    "\n",
    "def gauss_legendre(f, a, b, grau, n):\n",
    "    h = (b-a)/n\n",
    "    ai = a\n",
    "    bi = ai + h\n",
    "    r = 0\n",
    "    \n",
    "    for i in range(n):\n",
    "        r += resolver(f, ai, bi, grau)\n",
    "        ai = bi\n",
    "        bi += h\n",
    "    return r\n",
    "\n",
    "def teste(f, a, b, sol, tol):\n",
    "    qtd = []\n",
    "    for grau in range(2, 5):\n",
    "        n = 1\n",
    "        while True:\n",
    "            atual = gauss_legendre(f, a, b, grau, n)\n",
    "            if np.abs(sol - atual) < tol:\n",
    "                break\n",
    "            n += 1\n",
    "        qtd.append(n)\n",
    "    return qtd\n",
    "            \n",
    "def f(x):\n",
    "    return (np.sin(2*x) + 4*x**2 + 3*x)**2\n",
    "    #return np.e**x\n",
    "\n",
    "\n",
    "sol = 17.8764703\n",
    "a = 0\n",
    "b = 1\n",
    "tol = 1e-6\n",
    "s = teste(f, a, b, sol, tol)\n",
    "print(s)"
   ]
  },
  {
   "cell_type": "code",
   "execution_count": null,
   "metadata": {},
   "outputs": [],
   "source": []
  }
 ],
 "metadata": {
  "kernelspec": {
   "display_name": "Python 3",
   "language": "python",
   "name": "python3"
  },
  "language_info": {
   "codemirror_mode": {
    "name": "ipython",
    "version": 3
   },
   "file_extension": ".py",
   "mimetype": "text/x-python",
   "name": "python",
   "nbconvert_exporter": "python",
   "pygments_lexer": "ipython3",
   "version": "3.7.4"
  }
 },
 "nbformat": 4,
 "nbformat_minor": 4
}
