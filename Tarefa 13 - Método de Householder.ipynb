{
 "cells": [
  {
   "cell_type": "markdown",
   "metadata": {},
   "source": [
    "**Curso: Métodos Numéricos II  \n",
    "Professor: Creto Augusto Vidal  \n",
    "Semestre: 2020.1  \n",
    "Equipe: DANIEL MAGALHÃES NUNES, ANTONIO AUGUSTO DA SILVA HOLANDA  \n",
    "Tarefa 13**"
   ]
  },
  {
   "cell_type": "markdown",
   "metadata": {},
   "source": [
    "**Com a matriz A abaixo, faça o que se pede:**\n",
    "$$\n",
    "A = \\begin{bmatrix}\n",
    "40 & 8 & 4 & 2 & 1\\\\ \n",
    "8 &30  &12  &6  & 2 \\\\ \n",
    "4 & 12 & 20 & 1 & 2\\\\ \n",
    "2 & 6 & 1 & 25 & 4\\\\ \n",
    "1 & 2 & 2 & 4 & 5\n",
    "\\end{bmatrix}\n",
    "$$\n",
    "\n",
    "**1) Implemente o método de Householder e aplique-o sobre A para encontrar:  \n",
    "    i. a matriz tridiagonal <SPAN STYLE=\"text-decoration:overline\">A</SPAN>  \n",
    "    ii. a matriz acumulada H = H<sub>1</sub>H<sub>2</sub>H<sub>3</sub>  \n",
    "2) Use os métodos da potência para encontrar os autovalores e autovetores da matriz <SPAN STYLE=\"text-decoration:overline\">A</SPAN>.   \n",
    "3) Usando a matriz H e os autovetores da matriz <SPAN STYLE=\"text-decoration:overline\">A</SPAN> encontre os autovetores da matriz A.  \n",
    "4) Encontre os autovalores da matriz A**"
   ]
  },
  {
   "cell_type": "markdown",
   "metadata": {},
   "source": [
    "**Algoritimo do Método da Potência Regular**"
   ]
  },
  {
   "cell_type": "code",
   "execution_count": 2,
   "metadata": {},
   "outputs": [],
   "source": [
    "import numpy as np\n",
    "\n",
    "def metodoDaPotenciaRegular(A, v0, epsilon = 1e-4, max_iter = 10000):\n",
    "    '''\n",
    "    Esta função tenta encontrar o autovalor dominante e o autovetor correspondente da matriz A,\n",
    "    usando o método de potência regular com os parâmetros:\n",
    "     - A: (matriz) Matriz quadrada(nxn) que se deseja encontrar o autovalor dominante e o autovetor correspondente\n",
    "     - v0: (vetor) Vetor arbitrário de tamanha n = dimensão da matriz A(nxn)\n",
    "     - epsilon: (float) Critério de parada do método de potência quando alterações na solução são insignificantes\n",
    "     - max_iter: (int) Critério de parada definitiva, quando o metodo não encontra uma solução aceitável\n",
    "    '''\n",
    "    ep = 0 # step 2\n",
    "    vk = np.copy(v0) # step 3\n",
    "    cont = 0\n",
    "\n",
    "    while True:\n",
    "        ep_velho = ep # step 4\n",
    "        vk_velho = np.copy(vk) # step 5\n",
    "\n",
    "        x1_velho = vk_velho / np.linalg.norm(vk_velho) # step 6\n",
    "        vk = A.dot(x1_velho) # step 7\n",
    "        ep = np.dot(x1_velho.T, vk) # step 8\n",
    "\n",
    "        if np.abs((ep - ep_velho)/ep) < epsilon or cont > max_iter: # step 9\n",
    "            break\n",
    "        cont += 1\n",
    "    return ep[0][0], vk.T # step 10"
   ]
  },
  {
   "cell_type": "markdown",
   "metadata": {},
   "source": [
    "**Algoritimo do Método da Potência Inverso 2**"
   ]
  },
  {
   "cell_type": "code",
   "execution_count": 3,
   "metadata": {},
   "outputs": [],
   "source": [
    "def metodoDaPotenciaInverso2(A, v0, epsilon = 1e-4, max_iter = 10000):\n",
    "    ep = 0 # step 2\n",
    "    vk = np.copy(v0) # step 3\n",
    "    cont = 0\n",
    "\n",
    "    while True:\n",
    "        ep_velho = ep # step 4\n",
    "        vk_velho = np.copy(vk) # step 5\n",
    "\n",
    "        x1_velho = vk_velho / np.linalg.norm(vk_velho) # step 6\n",
    "        vk = np.dot(np.linalg.inv(A), x1_velho) # step 7\n",
    "        ep = np.dot(x1_velho.T, vk) # step 8\n",
    "\n",
    "        if np.abs((ep - ep_velho)/ep) < epsilon or cont > max_iter: # step 9\n",
    "            break\n",
    "        cont += 1\n",
    "    ep_menor = 1/ep[0][0]\n",
    "    return ep_menor, vk.T # step 10"
   ]
  },
  {
   "cell_type": "markdown",
   "metadata": {},
   "source": [
    "**Algoritimo do Método da Potência com Deslocamento**"
   ]
  },
  {
   "cell_type": "code",
   "execution_count": 4,
   "metadata": {},
   "outputs": [],
   "source": [
    "def metodoDaPotenciaComDeslocamento(A, v0, mu):\n",
    "    A_chapeu = A - mu*np.eye(A.shape[0])\n",
    "    epc, xc = metodoDaPotenciaInverso2(A_chapeu, v0)\n",
    "    ep = epc + mu\n",
    "    x = xc\n",
    "    return ep, x"
   ]
  },
  {
   "cell_type": "markdown",
   "metadata": {},
   "source": [
    "**Algoritimo do Método da Potência Completo**"
   ]
  },
  {
   "cell_type": "code",
   "execution_count": 5,
   "metadata": {},
   "outputs": [],
   "source": [
    "def metodoDaPotenciaCompleto(A, v0, epsilon = 1e-4, max_iter = 10000):\n",
    "\n",
    "    if A.shape[0] == 1:\n",
    "        return A, 1\n",
    "    elif A.shape[0] == 2:\n",
    "        ep_maior, v_maior = metodoDaPotenciaRegular(A, v0)\n",
    "        ep_menor, v_menor = metodoDaPotenciaInverso2(A, v0)\n",
    "        return [ep_menor, ep_maior], [v_menor, v_maior]\n",
    "    else:\n",
    "        ep_maior, v_maior = metodoDaPotenciaRegular(A, v0)\n",
    "        ep_menor, v_menor = metodoDaPotenciaInverso2(A, v0) \n",
    "        autovalores = [ep_menor, ep_maior]\n",
    "        autovetores = [v_menor, v_maior]\n",
    "        passo = (ep_maior - ep_menor) / A.shape[0]\n",
    "        mu = passo\n",
    "        \n",
    "        while len(set(autovalores)) < A.shape[0]:\n",
    "            ep, vk = metodoDaPotenciaComDeslocamento(A, v0, mu)\n",
    "            autovalores.append(ep)\n",
    "            autovetores.append(vk)\n",
    "            mu += passo\n",
    "        \n",
    "        return np.array(autovalores), np.array(autovetores).reshape(A.shape)"
   ]
  },
  {
   "cell_type": "markdown",
   "metadata": {},
   "source": [
    "**Algoritimo do Método Householder**"
   ]
  },
  {
   "cell_type": "code",
   "execution_count": 27,
   "metadata": {},
   "outputs": [],
   "source": [
    "def matrizHouseholder(A, i):\n",
    "    n = A.shape[0]\n",
    "    I = np.eye(n)\n",
    "    w = np.zeros(n).reshape(1,n)\n",
    "    w_linha = np.zeros(n).reshape(1,n)\n",
    "    \n",
    "    w[0, i+1:] = A[i+1:, i]\n",
    "    lw = np.linalg.norm(w)\n",
    "    w_linha[0, i+1] = lw\n",
    "    N = w - w_linha\n",
    "    n = N / np.linalg.norm(N)\n",
    "\n",
    "    H = I - 2*np.dot(n.T, n)\n",
    "\n",
    "    return H\n",
    "\n",
    "\n",
    "def householder(A):\n",
    "    n = A.shape[0]\n",
    "    H = np.eye(n)\n",
    "    H_i = 0\n",
    "    A_i = 0\n",
    "    A_barra = 0\n",
    "    A_i1 = np.copy(A)\n",
    "    for i in range(n-2):\n",
    "        H_i = matrizHouseholder(A_i1, i)\n",
    "\n",
    "        A_i = np.dot(np.dot(H_i.T, A_i1), H_i)\n",
    "\n",
    "        A_i1 = np.copy(A_i)\n",
    "\n",
    "        H = np.dot(H, H_i)\n",
    "\n",
    "    A_barra = np.copy(A_i)\n",
    "\n",
    "    return A_barra, H"
   ]
  },
  {
   "cell_type": "markdown",
   "metadata": {},
   "source": [
    "**Encontrando os autovalores e os autovetores da matriz A**"
   ]
  },
  {
   "cell_type": "code",
   "execution_count": 20,
   "metadata": {},
   "outputs": [],
   "source": [
    "A = np.array([[40, 8,  4,  2, 1], # Definindo matriz A\n",
    "              [8, 30, 12,  6, 2],\n",
    "              [4, 12, 20,  1, 2],\n",
    "              [2,  6,  1, 25, 4],\n",
    "              [1,  2,  2,  4, 5]])\n",
    "\n",
    "\n",
    "A_barra, H = householder(A) # Chamando do método householder\n",
    "v0 = np.array([1, 0, 0, 0, 0]).reshape(5, 1) # Definindo vetor v0\n",
    "ep, vk = metodoDaPotenciaCompleto(A_barra, v0) # Chamando do método da potência"
   ]
  },
  {
   "cell_type": "code",
   "execution_count": 28,
   "metadata": {},
   "outputs": [
    {
     "data": {
      "text/plain": [
       "array([ 4.01490122, 49.38110001, 11.64248171, 23.64910867, 23.64719504])"
      ]
     },
     "execution_count": 28,
     "metadata": {},
     "output_type": "execute_result"
    }
   ],
   "source": [
    "# Autovalores de A\n",
    "ep"
   ]
  },
  {
   "cell_type": "code",
   "execution_count": 29,
   "metadata": {},
   "outputs": [
    {
     "data": {
      "text/plain": [
       "array([[ 2.0000e-03, -9.0000e-03,  7.3000e-02, -1.2200e-01,  2.0400e-01],\n",
       "       [ 3.0116e+01,  3.0256e+01,  3.5900e+00,  8.5100e-01,  2.0600e-01],\n",
       "       [ 1.5044e+01,  1.5137e+01,  1.9080e+00,  1.2100e-01, -1.1900e-01],\n",
       "       [ 7.5620e+00,  7.4900e+00,  1.2360e+00,  2.4800e-01, -5.2000e-02],\n",
       "       [ 3.7470e+00,  3.8120e+00,  3.7000e-01, -7.0000e-03, -1.2000e-02]])"
      ]
     },
     "execution_count": 29,
     "metadata": {},
     "output_type": "execute_result"
    }
   ],
   "source": [
    "# Autovetores de A\n",
    "autovetores = np.dot(H, vk)\n",
    "np.round(autovetores, 3)"
   ]
  }
 ],
 "metadata": {
  "kernelspec": {
   "display_name": "Python 3",
   "language": "python",
   "name": "python3"
  },
  "language_info": {
   "codemirror_mode": {
    "name": "ipython",
    "version": 3
   },
   "file_extension": ".py",
   "mimetype": "text/x-python",
   "name": "python",
   "nbconvert_exporter": "python",
   "pygments_lexer": "ipython3",
   "version": "3.7.6"
  }
 },
 "nbformat": 4,
 "nbformat_minor": 4
}
