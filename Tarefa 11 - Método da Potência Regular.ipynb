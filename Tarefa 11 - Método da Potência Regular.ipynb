{
 "cells": [
  {
   "cell_type": "markdown",
   "metadata": {},
   "source": [
    "**Curso: Métodos Numéricos II  \n",
    "Professor: Creto Augusto Vidal  \n",
    "Semestre: 2020.1  \n",
    "Equipe: DANIEL MAGALHÃES NUNES, ANTONIO AUGUSTO DA SILVA HOLANDA  \n",
    "Tarefa 11**"
   ]
  },
  {
   "cell_type": "markdown",
   "metadata": {},
   "source": [
    "**Tarefa: Implemente o algoritimo do Método da Potência Regular e utilize-o para encontrar o autovalor dominante e o autovetor correspondente de cada uma das seguintes matrizes:**\n",
    "$$\n",
    "A_1 = \\begin{bmatrix}\n",
    "5 & 2 & 1 \\\\ \n",
    "2 & 3 & 1\\\\ \n",
    "1 & 1 & 2\n",
    "\\end{bmatrix}\n",
    "\\; \\;\n",
    "A_2 = \\begin{bmatrix}\n",
    "40 & 8 & 4 & 2 & 1\\\\ \n",
    "8 &30  &12  &6  & 2 \\\\ \n",
    "4 & 12 & 20 & 1 & 2\\\\ \n",
    "2 & 6 & 1 & 25 & 4\\\\ \n",
    "1 & 2 & 2 & 4 & 5\n",
    "\\end{bmatrix}\n",
    "$$"
   ]
  },
  {
   "cell_type": "markdown",
   "metadata": {},
   "source": [
    "**Algoritimo do Método da Potência Regular**"
   ]
  },
  {
   "cell_type": "code",
   "execution_count": 37,
   "metadata": {},
   "outputs": [],
   "source": [
    "import numpy as np\n",
    "\n",
    "def metodoDaPotenciaRegular(A, v0, epsilon = 1e-4, max_iter = 10000):\n",
    "    '''\n",
    "    Esta função tenta encontrar o autovalor dominante e o autovetor correspondente da matriz A,\n",
    "    usando o método de potência regular com os parâmetros:\n",
    "     - A: (matriz) Matriz quadrada(nxn) que se deseja encontrar o autovalor dominante e o autovetor correspondente\n",
    "     - v0: (vetor) Vetor arbitrário de tamanha n = dimensão da matriz A(nxn)\n",
    "     - epsilon: (float) Critério de parada do método de potência quando alterações na solução são insignificantes\n",
    "     - max_iter: (int) Critério de parada definitiva, quando o metodo não encontra uma solução aceitável\n",
    "    '''\n",
    "    ep = 0 # step 2\n",
    "    vk = np.copy(v0) # step 3\n",
    "    cont = 0\n",
    "\n",
    "    while True:\n",
    "        ep_velho = ep # step 4\n",
    "        vk_velho = np.copy(vk) # step 5\n",
    "\n",
    "        x1_velho = vk_velho / np.linalg.norm(vk_velho) # step 6\n",
    "        vk = A.dot(x1_velho) # step 7\n",
    "        ep = np.dot(x1_velho.T, vk) # step 8\n",
    "\n",
    "        if np.abs((ep - ep_velho)/ep) < epsilon or cont > max_iter: # step 9\n",
    "            break\n",
    "        cont += 1\n",
    "    return ep[0][0], vk.T # step 10"
   ]
  },
  {
   "cell_type": "markdown",
   "metadata": {},
   "source": [
    "**Encontrando o autovalor dominante e o autovetor correspondente da matriz A1**"
   ]
  },
  {
   "cell_type": "code",
   "execution_count": 34,
   "metadata": {},
   "outputs": [
    {
     "name": "stdout",
     "output_type": "stream",
     "text": [
      "autovalor dominante: 6.64573673750236\n",
      "autorvetor correspondente: [[5.35302652 3.4533028  1.89359217]]\n"
     ]
    }
   ],
   "source": [
    "A1 = np.array([[5, 2, 1], # Definindo matriz A1\n",
    "              [2, 3, 1],\n",
    "              [1, 1, 2]])\n",
    "\n",
    "v0 = np.array([1, 0, 0]).reshape(3,1) # Definindo vetor v0\n",
    "ep, vk = metodoDaPotenciaRegular(A1, v0) # Chamando do método\n",
    "print('autovalor dominante: {}'.format(ep)) # Imprimindo autovalor dominante\n",
    "print('autorvetor correspondente: {}'.format(vk)) # Imprimindo autorvetor correspondente"
   ]
  },
  {
   "cell_type": "markdown",
   "metadata": {},
   "source": [
    "**Encontrando o autovalor dominante e o autovetor correspondente da matriz A2**"
   ]
  },
  {
   "cell_type": "code",
   "execution_count": 35,
   "metadata": {},
   "outputs": [
    {
     "name": "stdout",
     "output_type": "stream",
     "text": [
      "autovalor dominante: 49.38110001033043\n",
      "autorvetor correspondente: [[34.70636233 28.46677013 16.91888121 11.0836677   3.81381573]]\n"
     ]
    }
   ],
   "source": [
    "A2 = np.array([[40, 8,  4,  2, 1], # Definindo matriz A2\n",
    "              [8, 30, 12,  6, 2],\n",
    "              [4, 12, 20,  1, 2],\n",
    "              [2,  6,  1, 25, 4],\n",
    "              [1,  2,  2,  4, 5]])\n",
    "\n",
    "v0 = np.array([1, 0, 0, 0, 0]).reshape(5, 1) # Definindo vetor v0\n",
    "ep, vk = metodoDaPotenciaRegular(A2, v0) # Chamando do método\n",
    "print('autovalor dominante: {}'.format(ep)) # Imprimindo autovalor dominante\n",
    "print('autorvetor correspondente: {}'.format(vk)) # Imprimindo autorvetor correspondente"
   ]
  }
 ],
 "metadata": {
  "kernelspec": {
   "display_name": "Python 3",
   "language": "python",
   "name": "python3"
  },
  "language_info": {
   "codemirror_mode": {
    "name": "ipython",
    "version": 3
   },
   "file_extension": ".py",
   "mimetype": "text/x-python",
   "name": "python",
   "nbconvert_exporter": "python",
   "pygments_lexer": "ipython3",
   "version": "3.7.6"
  }
 },
 "nbformat": 4,
 "nbformat_minor": 4
}
