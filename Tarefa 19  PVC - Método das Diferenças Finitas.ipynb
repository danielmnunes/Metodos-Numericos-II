{
 "cells": [
  {
   "cell_type": "markdown",
   "metadata": {},
   "source": [
    "**Curso: Métodos Numéricos II  \n",
    "Professor: Creto Augusto Vidal  \n",
    "Semestre: 2020.1  \n",
    "Equipe: DANIEL MAGALHÃES NUNES, ANTONIO AUGUSTO DA SILVA HOLANDA  \n",
    "Tarefa 19**"
   ]
  },
  {
   "cell_type": "markdown",
   "metadata": {},
   "source": [
    "**Tarefa 19  PVC - Método das Diferenças Finitas**"
   ]
  },
  {
   "cell_type": "code",
   "execution_count": 118,
   "metadata": {},
   "outputs": [],
   "source": [
    "import numpy as np\n",
    "import pandas as pd"
   ]
  },
  {
   "cell_type": "code",
   "execution_count": 121,
   "metadata": {},
   "outputs": [],
   "source": [
    "def diffinita(a, b, N):\n",
    "    h = (b-a)/N\n",
    "    dp = -(1 + 2/h**2)\n",
    "    ds = 1/h**2\n",
    "    \n",
    "    a = np.zeros((N-1, N-1))\n",
    "    np.fill_diagonal(a, dp)\n",
    "    rng = np.arange(N-2)\n",
    "    a[rng, rng+1] = ds\n",
    "    a[rng+1, rng] = ds\n",
    "    b = np.zeros(N-1)\n",
    "    b[-1] = - ds\n",
    "    x = np.linalg.solve(a, b)\n",
    "    return x"
   ]
  },
  {
   "cell_type": "markdown",
   "metadata": {},
   "source": [
    "**Método das Diferenças Finitas aplicado ao PVC1**"
   ]
  },
  {
   "cell_type": "code",
   "execution_count": 135,
   "metadata": {},
   "outputs": [],
   "source": [
    "N = 4\n",
    "x = diffinita(0, 1, N)\n",
    "s = np.array([0.25, 0.5, 0.75])\n",
    "def y(x):\n",
    "    return (1/(np.e**(-1) - np.e))*(np.e**(-x) - np.e**(x))\n",
    "\n",
    "sol = y(s)\n",
    "erro = np.abs(sol - x) / sol\n",
    "dados = {}\n",
    "dados['Solução Aproximada'] = x\n",
    "dados['Solução Exata'] = sol\n",
    "dados['Erro Relativo'] = erro\n",
    "df = pd.DataFrame(dados)"
   ]
  },
  {
   "cell_type": "markdown",
   "metadata": {},
   "source": [
    "**Para N = 4**"
   ]
  },
  {
   "cell_type": "code",
   "execution_count": 136,
   "metadata": {},
   "outputs": [
    {
     "data": {
      "text/html": [
       "<div>\n",
       "<style scoped>\n",
       "    .dataframe tbody tr th:only-of-type {\n",
       "        vertical-align: middle;\n",
       "    }\n",
       "\n",
       "    .dataframe tbody tr th {\n",
       "        vertical-align: top;\n",
       "    }\n",
       "\n",
       "    .dataframe thead th {\n",
       "        text-align: right;\n",
       "    }\n",
       "</style>\n",
       "<table border=\"1\" class=\"dataframe\">\n",
       "  <thead>\n",
       "    <tr style=\"text-align: right;\">\n",
       "      <th></th>\n",
       "      <th>Solução Aproximada</th>\n",
       "      <th>Solução Exata</th>\n",
       "      <th>Erro Relativo</th>\n",
       "    </tr>\n",
       "  </thead>\n",
       "  <tbody>\n",
       "    <tr>\n",
       "      <th>0</th>\n",
       "      <td>0.215115</td>\n",
       "      <td>0.214952</td>\n",
       "      <td>0.000755</td>\n",
       "    </tr>\n",
       "    <tr>\n",
       "      <th>1</th>\n",
       "      <td>0.443674</td>\n",
       "      <td>0.443409</td>\n",
       "      <td>0.000597</td>\n",
       "    </tr>\n",
       "    <tr>\n",
       "      <th>2</th>\n",
       "      <td>0.699963</td>\n",
       "      <td>0.699724</td>\n",
       "      <td>0.000342</td>\n",
       "    </tr>\n",
       "  </tbody>\n",
       "</table>\n",
       "</div>"
      ],
      "text/plain": [
       "   Solução Aproximada  Solução Exata  Erro Relativo\n",
       "0            0.215115       0.214952       0.000755\n",
       "1            0.443674       0.443409       0.000597\n",
       "2            0.699963       0.699724       0.000342"
      ]
     },
     "execution_count": 136,
     "metadata": {},
     "output_type": "execute_result"
    }
   ],
   "source": [
    "df # Para N = 4"
   ]
  },
  {
   "cell_type": "code",
   "execution_count": 137,
   "metadata": {},
   "outputs": [],
   "source": [
    "N = 8\n",
    "x = diffinita(0, 1, N)\n",
    "s = np.array([i*0.125 for i in range(1, N)])\n",
    "def y(x):\n",
    "    return (1/(np.e**(-1) - np.e))*(np.e**(-x) - np.e**(x))\n",
    "\n",
    "sol = y(s)\n",
    "erro = np.abs(sol - x) / sol\n",
    "dados = {}\n",
    "dados['Solução Aproximada'] = x\n",
    "dados['Solução Exata'] = sol\n",
    "dados['Erro Relativo'] = erro\n",
    "df = pd.DataFrame(dados)"
   ]
  },
  {
   "cell_type": "markdown",
   "metadata": {},
   "source": [
    "**Para N = 8**"
   ]
  },
  {
   "cell_type": "code",
   "execution_count": 138,
   "metadata": {},
   "outputs": [
    {
     "data": {
      "text/html": [
       "<div>\n",
       "<style scoped>\n",
       "    .dataframe tbody tr th:only-of-type {\n",
       "        vertical-align: middle;\n",
       "    }\n",
       "\n",
       "    .dataframe tbody tr th {\n",
       "        vertical-align: top;\n",
       "    }\n",
       "\n",
       "    .dataframe thead th {\n",
       "        text-align: right;\n",
       "    }\n",
       "</style>\n",
       "<table border=\"1\" class=\"dataframe\">\n",
       "  <thead>\n",
       "    <tr style=\"text-align: right;\">\n",
       "      <th></th>\n",
       "      <th>Solução Aproximada</th>\n",
       "      <th>Solução Exata</th>\n",
       "      <th>Erro Relativo</th>\n",
       "    </tr>\n",
       "  </thead>\n",
       "  <tbody>\n",
       "    <tr>\n",
       "      <th>0</th>\n",
       "      <td>0.106663</td>\n",
       "      <td>0.106642</td>\n",
       "      <td>0.000200</td>\n",
       "    </tr>\n",
       "    <tr>\n",
       "      <th>1</th>\n",
       "      <td>0.214993</td>\n",
       "      <td>0.214952</td>\n",
       "      <td>0.000190</td>\n",
       "    </tr>\n",
       "    <tr>\n",
       "      <th>2</th>\n",
       "      <td>0.326682</td>\n",
       "      <td>0.326626</td>\n",
       "      <td>0.000173</td>\n",
       "    </tr>\n",
       "    <tr>\n",
       "      <th>3</th>\n",
       "      <td>0.443476</td>\n",
       "      <td>0.443409</td>\n",
       "      <td>0.000150</td>\n",
       "    </tr>\n",
       "    <tr>\n",
       "      <th>4</th>\n",
       "      <td>0.567199</td>\n",
       "      <td>0.567130</td>\n",
       "      <td>0.000121</td>\n",
       "    </tr>\n",
       "    <tr>\n",
       "      <th>5</th>\n",
       "      <td>0.699784</td>\n",
       "      <td>0.699724</td>\n",
       "      <td>0.000086</td>\n",
       "    </tr>\n",
       "    <tr>\n",
       "      <th>6</th>\n",
       "      <td>0.843304</td>\n",
       "      <td>0.843266</td>\n",
       "      <td>0.000045</td>\n",
       "    </tr>\n",
       "  </tbody>\n",
       "</table>\n",
       "</div>"
      ],
      "text/plain": [
       "   Solução Aproximada  Solução Exata  Erro Relativo\n",
       "0            0.106663       0.106642       0.000200\n",
       "1            0.214993       0.214952       0.000190\n",
       "2            0.326682       0.326626       0.000173\n",
       "3            0.443476       0.443409       0.000150\n",
       "4            0.567199       0.567130       0.000121\n",
       "5            0.699784       0.699724       0.000086\n",
       "6            0.843304       0.843266       0.000045"
      ]
     },
     "execution_count": 138,
     "metadata": {},
     "output_type": "execute_result"
    }
   ],
   "source": [
    "df # Para N = 8"
   ]
  },
  {
   "cell_type": "markdown",
   "metadata": {},
   "source": [
    "**Método das Diferenças Finitas aplicado ao PVC2**"
   ]
  },
  {
   "cell_type": "code",
   "execution_count": 172,
   "metadata": {},
   "outputs": [],
   "source": [
    "def diffinita(a, b, N):\n",
    "    h = (b-a)/N\n",
    "    dp = -4/h**2\n",
    "    ds = 1/h**2\n",
    "    \n",
    "    a = np.zeros(((N-1)*(N-1), (N-1)*(N-1)))\n",
    "    np.fill_diagonal(a, dp)\n",
    "    rng = np.arange((N-1)*(N-1)-1)\n",
    "    a[rng, rng+1] = ds\n",
    "    a[rng+1, rng] = ds\n",
    "    \n",
    "    rng = np.arange((N-1)*(N-1)-3)\n",
    "    a[rng, rng+3] = ds\n",
    "    a[rng+3, rng] = ds\n",
    "    \n",
    "    rng = np.array( [i-1 for i in range(1, (N-1)*(N-1)-1) if i % 3 == 0] )\n",
    "    a[rng, rng+1] = 0\n",
    "    a[rng+1, rng] = 0\n",
    "    b = np.full((N-1)*(N-1), 4)\n",
    "    x = np.linalg.solve(a, b)\n",
    "    return x"
   ]
  },
  {
   "cell_type": "markdown",
   "metadata": {},
   "source": [
    "**Para N = 4**"
   ]
  },
  {
   "cell_type": "code",
   "execution_count": 180,
   "metadata": {},
   "outputs": [
    {
     "data": {
      "text/plain": [
       "array([-0.171875, -0.21875 , -0.171875, -0.21875 , -0.28125 , -0.21875 ,\n",
       "       -0.171875, -0.21875 , -0.171875])"
      ]
     },
     "execution_count": 180,
     "metadata": {},
     "output_type": "execute_result"
    }
   ],
   "source": [
    "diffinita(0, 1, 4)"
   ]
  },
  {
   "cell_type": "markdown",
   "metadata": {},
   "source": [
    "**Para N = 8**"
   ]
  },
  {
   "cell_type": "code",
   "execution_count": 181,
   "metadata": {},
   "outputs": [
    {
     "data": {
      "text/plain": [
       "array([-0.05012443, -0.06475596, -0.05012443, -0.07324177, -0.09627497,\n",
       "       -0.07324177, -0.08406769, -0.11136037, -0.08406769, -0.08916862,\n",
       "       -0.11853114, -0.08916862, -0.09157565, -0.12192695, -0.09157565,\n",
       "       -0.09270702, -0.12352537, -0.09270702, -0.09322705, -0.12426051,\n",
       "       -0.09322705, -0.09344068, -0.12456255, -0.09344068, -0.09347313,\n",
       "       -0.12460834, -0.09347313, -0.09334349, -0.12442453, -0.09334349,\n",
       "       -0.09297631, -0.12390281, -0.09297631, -0.09215894, -0.12273409,\n",
       "       -0.09215894, -0.09042536, -0.12021568, -0.09042536, -0.0868268 ,\n",
       "       -0.11477793, -0.0868268 , -0.07960393, -0.10274241, -0.07960393,\n",
       "       -0.06634651, -0.07448386, -0.06634651, -0.04879826])"
      ]
     },
     "execution_count": 181,
     "metadata": {},
     "output_type": "execute_result"
    }
   ],
   "source": [
    "diffinita(0, 1, 8)"
   ]
  }
 ],
 "metadata": {
  "kernelspec": {
   "display_name": "Python 3",
   "language": "python",
   "name": "python3"
  },
  "language_info": {
   "codemirror_mode": {
    "name": "ipython",
    "version": 3
   },
   "file_extension": ".py",
   "mimetype": "text/x-python",
   "name": "python",
   "nbconvert_exporter": "python",
   "pygments_lexer": "ipython3",
   "version": "3.8.3"
  }
 },
 "nbformat": 4,
 "nbformat_minor": 4
}
