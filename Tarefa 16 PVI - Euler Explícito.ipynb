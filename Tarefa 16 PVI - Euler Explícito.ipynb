{
 "cells": [
  {
   "cell_type": "markdown",
   "metadata": {},
   "source": [
    "**Curso: Métodos Numéricos II  \n",
    "Professor: Creto Augusto Vidal  \n",
    "Semestre: 2020.1  \n",
    "Equipe: DANIEL MAGALHÃES NUNES, ANTONIO AUGUSTO DA SILVA HOLANDA  \n",
    "Tarefa 16**"
   ]
  },
  {
   "cell_type": "markdown",
   "metadata": {},
   "source": [
    "**Tarefa 16: PVI - Euler Explícito**"
   ]
  },
  {
   "cell_type": "code",
   "execution_count": 46,
   "metadata": {},
   "outputs": [],
   "source": [
    "import numpy as np\n",
    "import pandas as pd"
   ]
  },
  {
   "cell_type": "code",
   "execution_count": 3,
   "metadata": {},
   "outputs": [],
   "source": [
    "def f2(v):\n",
    "    g = 10\n",
    "    k = 0.25\n",
    "    m = 2\n",
    "    s1 = -g - k/m * v[0, 0]\n",
    "    s2 = v[0, 0]\n",
    "    return np.array([s1, s2]).reshape(2, 1)"
   ]
  },
  {
   "cell_type": "code",
   "execution_count": 4,
   "metadata": {},
   "outputs": [],
   "source": [
    "s0 = np.array([5, 200]).reshape(2, 1)"
   ]
  },
  {
   "cell_type": "code",
   "execution_count": 54,
   "metadata": {},
   "outputs": [],
   "source": [
    "def euler(f, t0, y0, h):\n",
    "    y = np.copy(y0)\n",
    "    altura = [y[1, 0]]\n",
    "    velocidade = [y[0, 0]]\n",
    "    tempo = [t0]\n",
    "    while y[1,0] > 0:\n",
    "        y = y0 + h * f(y0)\n",
    "        t0 += h\n",
    "        y0 = y\n",
    "        altura.append(y[1, 0])\n",
    "        velocidade.append(y[0, 0])\n",
    "        tempo.append(t0)\n",
    "        \n",
    "    altura_max = max(altura)\n",
    "    tempo_altura_max = tempo[altura.index(altura_max)]\n",
    "    tempo_mar = tempo[-1]\n",
    "    velocidade_mar = velocidade[-1]\n",
    "    return [altura_max, tempo_altura_max, tempo_mar, velocidade_mar]"
   ]
  },
  {
   "cell_type": "code",
   "execution_count": 55,
   "metadata": {},
   "outputs": [],
   "source": [
    "h = [0.1, 0.01, 0.001, 0.0001]"
   ]
  },
  {
   "cell_type": "code",
   "execution_count": 64,
   "metadata": {},
   "outputs": [],
   "source": [
    "altura_max = []\n",
    "tempo_altura_max = []\n",
    "tempo_mar = []\n",
    "velocidade_mar = []\n",
    "for hi in h:\n",
    "    resultado = euler(f2, 0, s0, hi)\n",
    "    altura_max.append(resultado[0])\n",
    "    tempo_altura_max.append(resultado[1])\n",
    "    tempo_mar.append(resultado[2])\n",
    "    velocidade_mar.append(resultado[3])"
   ]
  },
  {
   "cell_type": "code",
   "execution_count": 65,
   "metadata": {},
   "outputs": [],
   "source": [
    "dados = {}\n",
    "dados['Δt'] = h\n",
    "dados['Altura Máxima'] = altura_max\n",
    "dados['Instante na Altura Máxima'] = tempo_altura_max\n",
    "dados['Tempo de queda no Mar'] = tempo_mar\n",
    "dados['Velocidade de queda no Mar'] = velocidade_mar"
   ]
  },
  {
   "cell_type": "code",
   "execution_count": 66,
   "metadata": {},
   "outputs": [],
   "source": [
    "df = pd.DataFrame(dados)"
   ]
  },
  {
   "cell_type": "markdown",
   "metadata": {},
   "source": [
    "**Resultado**"
   ]
  },
  {
   "cell_type": "code",
   "execution_count": 67,
   "metadata": {},
   "outputs": [
    {
     "data": {
      "text/html": [
       "<div>\n",
       "<style scoped>\n",
       "    .dataframe tbody tr th:only-of-type {\n",
       "        vertical-align: middle;\n",
       "    }\n",
       "\n",
       "    .dataframe tbody tr th {\n",
       "        vertical-align: top;\n",
       "    }\n",
       "\n",
       "    .dataframe thead th {\n",
       "        text-align: right;\n",
       "    }\n",
       "</style>\n",
       "<table border=\"1\" class=\"dataframe\">\n",
       "  <thead>\n",
       "    <tr style=\"text-align: right;\">\n",
       "      <th></th>\n",
       "      <th>Δt</th>\n",
       "      <th>Altura Máxima</th>\n",
       "      <th>Instante na Altura Máxima</th>\n",
       "      <th>Tempo de queda no Mar</th>\n",
       "      <th>Velocidade de queda no Mar</th>\n",
       "    </tr>\n",
       "  </thead>\n",
       "  <tbody>\n",
       "    <tr>\n",
       "      <th>0</th>\n",
       "      <td>0.1000</td>\n",
       "      <td>201.450698</td>\n",
       "      <td>0.500</td>\n",
       "      <td>7.9000</td>\n",
       "      <td>-48.533375</td>\n",
       "    </tr>\n",
       "    <tr>\n",
       "      <th>1</th>\n",
       "      <td>0.0100</td>\n",
       "      <td>201.224622</td>\n",
       "      <td>0.490</td>\n",
       "      <td>7.8000</td>\n",
       "      <td>-47.958198</td>\n",
       "    </tr>\n",
       "    <tr>\n",
       "      <th>2</th>\n",
       "      <td>0.0010</td>\n",
       "      <td>201.202667</td>\n",
       "      <td>0.485</td>\n",
       "      <td>7.7910</td>\n",
       "      <td>-47.904514</td>\n",
       "    </tr>\n",
       "    <tr>\n",
       "      <th>3</th>\n",
       "      <td>0.0001</td>\n",
       "      <td>201.200485</td>\n",
       "      <td>0.485</td>\n",
       "      <td>7.7898</td>\n",
       "      <td>-47.897941</td>\n",
       "    </tr>\n",
       "  </tbody>\n",
       "</table>\n",
       "</div>"
      ],
      "text/plain": [
       "       Δt  Altura Máxima  Instante na Altura Máxima  Tempo de queda no Mar  \\\n",
       "0  0.1000     201.450698                      0.500                 7.9000   \n",
       "1  0.0100     201.224622                      0.490                 7.8000   \n",
       "2  0.0010     201.202667                      0.485                 7.7910   \n",
       "3  0.0001     201.200485                      0.485                 7.7898   \n",
       "\n",
       "   Velocidade de queda no Mar  \n",
       "0                  -48.533375  \n",
       "1                  -47.958198  \n",
       "2                  -47.904514  \n",
       "3                  -47.897941  "
      ]
     },
     "execution_count": 67,
     "metadata": {},
     "output_type": "execute_result"
    }
   ],
   "source": [
    "df"
   ]
  },
  {
   "cell_type": "code",
   "execution_count": null,
   "metadata": {},
   "outputs": [],
   "source": []
  }
 ],
 "metadata": {
  "kernelspec": {
   "display_name": "Python 3",
   "language": "python",
   "name": "python3"
  },
  "language_info": {
   "codemirror_mode": {
    "name": "ipython",
    "version": 3
   },
   "file_extension": ".py",
   "mimetype": "text/x-python",
   "name": "python",
   "nbconvert_exporter": "python",
   "pygments_lexer": "ipython3",
   "version": "3.8.3"
  }
 },
 "nbformat": 4,
 "nbformat_minor": 4
}
