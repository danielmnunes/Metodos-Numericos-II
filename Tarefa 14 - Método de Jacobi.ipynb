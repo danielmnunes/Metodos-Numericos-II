{
 "cells": [
  {
   "cell_type": "markdown",
   "metadata": {},
   "source": [
    "**Curso: Métodos Numéricos II  \n",
    "Professor: Creto Augusto Vidal  \n",
    "Semestre: 2020.1  \n",
    "Equipe: DANIEL MAGALHÃES NUNES, ANTONIO AUGUSTO DA SILVA HOLANDA  \n",
    "Tarefa 14**"
   ]
  },
  {
   "cell_type": "markdown",
   "metadata": {},
   "source": [
    "**Com a matriz A abaixo, faça o que se pede:**\n",
    "$$\n",
    "A = \\begin{bmatrix}\n",
    "40 & 8 & 4 & 2 & 1\\\\ \n",
    "8 &30  &12  &6  & 2 \\\\ \n",
    "4 & 12 & 20 & 1 & 2\\\\ \n",
    "2 & 6 & 1 & 25 & 4\\\\ \n",
    "1 & 2 & 2 & 4 & 5\n",
    "\\end{bmatrix}\n",
    "$$\n",
    "\n",
    "1) Implemente o método de Jacobi e aplique-o sobre A para encontrar  \n",
    "i. a matriz diagonal $\\bar{A}$  \n",
    "ii. a matriz acumulada $P = P_1 P_2 P_3$  \n",
    "iii. Imprima a matriz que sai de cada varredura de Jacobi  \n",
    "iv. Imprima os pares (autovalor, autovetor) da matriz A    \n",
    "v. Compare os resultados do item 3) com os resultados da Tarefa # 13  \n",
    "\n",
    "2) Adapte o método de varredura de Jacobi para receber a matriz tridiagonal que sai do método de Householder. Neste caso, observe que:  \n",
    "i. as varreduras de colunas e linhas continuam as mesmas  \n",
    "ii imprima $A_{nova}$ logo após a linha $A_{nova} \\leftarrow  J_{ij}^T A_{velha} J_{ij}$ e verifique se os termos que eram zero deixaram de ser zero.  \n",
    "iii. depois da diagonalização, verifique que as colunas de P não são os autovetores de A.  \n",
    "iv. Faça P = HP e verifique que as colunas da nova matriz P são os autovetores de A"
   ]
  },
  {
   "cell_type": "markdown",
   "metadata": {},
   "source": [
    "**Algoritimo do Método de Jacobi**"
   ]
  },
  {
   "cell_type": "code",
   "execution_count": 2,
   "metadata": {},
   "outputs": [],
   "source": [
    "import numpy as np"
   ]
  },
  {
   "cell_type": "code",
   "execution_count": 55,
   "metadata": {},
   "outputs": [],
   "source": [
    "def jacobi(A, erro = 1e-8, imprime=False ,k_max = 100000):\n",
    "    n = A.shape[0]\n",
    "    A_velha = np.copy(A)\n",
    "    P = np.eye(n)\n",
    "    val = 100\n",
    "    k = 1\n",
    "    while val > erro and k < k_max:\n",
    "        A_nova, J = varredura_de_jacobi(A_velha)\n",
    "        if imprime:\n",
    "            print('-'*20)\n",
    "            print('A{}={}'.format(k, A_nova.round(3)) )\n",
    "            print('-'*20)\n",
    "        \n",
    "        A_velha = np.copy(A_nova)\n",
    "        \n",
    "        P = np.dot(P, J)\n",
    "        \n",
    "        val = soma_diagonal(A_nova)\n",
    "        k += 1\n",
    "    \n",
    "    lamb = np.diag(A_nova).reshape(n, 1)\n",
    "    return P, lamb"
   ]
  },
  {
   "cell_type": "code",
   "execution_count": 56,
   "metadata": {},
   "outputs": [],
   "source": [
    "def soma_diagonal(A):\n",
    "    n = A.shape[0]\n",
    "    s = 0\n",
    "    for i in range(n):\n",
    "        for j in range(n):\n",
    "            if i > j:\n",
    "                s += A[i, j]**2\n",
    "    return s"
   ]
  },
  {
   "cell_type": "code",
   "execution_count": 57,
   "metadata": {},
   "outputs": [],
   "source": [
    "def varredura_de_jacobi(A):\n",
    "    n = A.shape[0]\n",
    "    J = np.eye(n)\n",
    "    \n",
    "    A_velha = np.copy(A)\n",
    "    A_nova = np.copy(A)\n",
    "    for j in range(0, n-1):\n",
    "        for i in range(j+1, n):\n",
    "            Jij = matriz_jacobi(A_velha, i , j)\n",
    "            A_nova = Jij.T @ A_velha @ Jij\n",
    "            A_velha = np.copy(A_nova)\n",
    "            J = np.dot(J, Jij)\n",
    "    \n",
    "    return A_nova, J"
   ]
  },
  {
   "cell_type": "code",
   "execution_count": 58,
   "metadata": {},
   "outputs": [],
   "source": [
    "def matriz_jacobi(A, i , j):\n",
    "    theta = 0\n",
    "    erro = 1e-6\n",
    "    n = A.shape[0]\n",
    "    Jij = np.eye(n)\n",
    "    if np.abs(A[i, j]) <= erro:\n",
    "        return Jij\n",
    "    \n",
    "    w = ( A[j, j] - A[i, i] ) / (2*A[i, j])\n",
    "    t = 0\n",
    "    if w < 0:\n",
    "        t = -w - np.sqrt(1 + w**2)\n",
    "    else:\n",
    "        t = -w + np.sqrt(1 + w**2)\n",
    "        \n",
    "    s = t / np.sqrt(1 + t**2)\n",
    "    c = 1 / np.sqrt(1 + t**2)\n",
    "    n = A.shape[0]\n",
    "    Jij[i, i] = c\n",
    "    Jij[j, j] = c\n",
    "    Jij[i, j] = s\n",
    "    Jij[j, i] = -s\n",
    "    \n",
    "    return Jij"
   ]
  },
  {
   "cell_type": "markdown",
   "metadata": {},
   "source": [
    "**1) Implemente o método de Jacobi e aplique-o sobre A para encontrar**"
   ]
  },
  {
   "cell_type": "code",
   "execution_count": 59,
   "metadata": {},
   "outputs": [],
   "source": [
    "A = np.array([[40, 8, 4, 2, 1],\n",
    "               [8, 30, 12, 6, 2],\n",
    "               [4, 12, 20, 1, 2],\n",
    "               [2, 6, 1, 25, 4],\n",
    "               [1, 2, 2, 4, 5]])"
   ]
  },
  {
   "cell_type": "code",
   "execution_count": 60,
   "metadata": {},
   "outputs": [
    {
     "name": "stdout",
     "output_type": "stream",
     "text": [
      "--------------------\n",
      "A1=[[48.756  2.959 -2.017 -0.503  0.092]\n",
      " [ 2.959 31.775 -0.7    0.414  0.062]\n",
      " [-2.017 -0.7   11.778  0.391 -0.049]\n",
      " [-0.503  0.414  0.391 23.675 -0.   ]\n",
      " [ 0.092  0.062 -0.049 -0.     4.015]]\n",
      "--------------------\n",
      "--------------------\n",
      "A2=[[ 4.9383e+01  1.1000e-02 -6.0000e-03 -1.0000e-03 -0.0000e+00]\n",
      " [ 1.1000e-02  3.1311e+01  2.4000e-02  1.0000e-03  0.0000e+00]\n",
      " [-6.0000e-03  2.4000e-02  1.1642e+01  0.0000e+00  0.0000e+00]\n",
      " [-1.0000e-03  1.0000e-03  0.0000e+00  2.3648e+01 -0.0000e+00]\n",
      " [-0.0000e+00  0.0000e+00  0.0000e+00 -0.0000e+00  4.0150e+00]]\n",
      "--------------------\n",
      "--------------------\n",
      "A3=[[49.383 -0.     0.     0.     0.   ]\n",
      " [-0.    31.311  0.    -0.    -0.   ]\n",
      " [ 0.     0.    11.642  0.    -0.   ]\n",
      " [ 0.    -0.     0.    23.648 -0.   ]\n",
      " [ 0.    -0.    -0.    -0.     4.015]]\n",
      "--------------------\n"
     ]
    }
   ],
   "source": [
    "# iii. Imprima a matriz que sai de cada varredura de Jacobi\n",
    "P, lamb = jacobi(A, imprime=True)"
   ]
  },
  {
   "cell_type": "code",
   "execution_count": 28,
   "metadata": {},
   "outputs": [
    {
     "data": {
      "text/plain": [
       "array([[ 0.69806109, -0.70728482,  0.04132603,  0.10328762, -0.00909571],\n",
       "       [ 0.57987223,  0.50120069, -0.59191983, -0.24728257,  0.03206718],\n",
       "       [ 0.34486652,  0.32980571,  0.77448982, -0.3938188 , -0.13178603],\n",
       "       [ 0.22686169,  0.36251994,  0.15536952,  0.87053714, -0.18745258],\n",
       "       [ 0.07784454,  0.09139772,  0.15475433,  0.12351049,  0.97282215]])"
      ]
     },
     "execution_count": 28,
     "metadata": {},
     "output_type": "execute_result"
    }
   ],
   "source": [
    "P # ii. a matriz acumulada  𝑃=𝑃1𝑃2𝑃3"
   ]
  },
  {
   "cell_type": "code",
   "execution_count": 30,
   "metadata": {},
   "outputs": [
    {
     "data": {
      "text/plain": [
       "array([[49.38314594],\n",
       "       [31.31146526],\n",
       "       [11.64242638],\n",
       "       [23.64807948],\n",
       "       [ 4.01488294]])"
      ]
     },
     "execution_count": 30,
     "metadata": {},
     "output_type": "execute_result"
    }
   ],
   "source": [
    "lamb # i. diagonal da matriz diagonal 𝐴 barra"
   ]
  },
  {
   "cell_type": "code",
   "execution_count": 91,
   "metadata": {},
   "outputs": [
    {
     "name": "stdout",
     "output_type": "stream",
     "text": [
      "Autovalores de A: \n",
      " [[49.38314594]\n",
      " [31.31146526]\n",
      " [11.64242638]\n",
      " [23.64807948]\n",
      " [ 4.01488294]]\n",
      "----------\n",
      "Autovetores de A: \n",
      " [[ 0.69806109 -0.70728482  0.04132603  0.10328762 -0.00909571]\n",
      " [ 0.57987223  0.50120069 -0.59191983 -0.24728257  0.03206718]\n",
      " [ 0.34486652  0.32980571  0.77448982 -0.3938188  -0.13178603]\n",
      " [ 0.22686169  0.36251994  0.15536952  0.87053714 -0.18745258]\n",
      " [ 0.07784454  0.09139772  0.15475433  0.12351049  0.97282215]]\n"
     ]
    }
   ],
   "source": [
    "# iv. Imprima os pares (autovalor, autovetor) da matriz A\n",
    "print('Autovalores de A: \\n {}'.format(lamb))\n",
    "print('-'*10)\n",
    "print('Autovetores de A: \\n {}'.format(P))"
   ]
  },
  {
   "cell_type": "code",
   "execution_count": null,
   "metadata": {},
   "outputs": [],
   "source": []
  }
 ],
 "metadata": {
  "kernelspec": {
   "display_name": "Python 3",
   "language": "python",
   "name": "python3"
  },
  "language_info": {
   "codemirror_mode": {
    "name": "ipython",
    "version": 3
   },
   "file_extension": ".py",
   "mimetype": "text/x-python",
   "name": "python",
   "nbconvert_exporter": "python",
   "pygments_lexer": "ipython3",
   "version": "3.8.3"
  }
 },
 "nbformat": 4,
 "nbformat_minor": 4
}
